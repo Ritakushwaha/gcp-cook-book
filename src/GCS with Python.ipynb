{
 "cells": [
  {
   "cell_type": "markdown",
   "metadata": {},
   "source": [
    "# 🧰 Google Cloud Storage (GCS) Tutorial Notebook\n",
    "Course: Data Engineering on Google Cloud\n",
    "Project: Data Analytics using GCS and Pandas\n",
    "\n",
    "## 📦 Setup and Initialization\n",
    "✅ Add Google Cloud SDK to PATH"
   ]
  },
  {
   "cell_type": "code",
   "execution_count": 15,
   "metadata": {},
   "outputs": [],
   "source": [
    "import os \n",
    "os.environ[\"PATH\"] += ':/Users/apple/Documents/setups/google-cloud-sdk/bin'"
   ]
  },
  {
   "cell_type": "markdown",
   "metadata": {},
   "source": [
    "## ✅ Verify gsutil"
   ]
  },
  {
   "cell_type": "code",
   "execution_count": 16,
   "metadata": {},
   "outputs": [
    {
     "name": "stdout",
     "output_type": "stream",
     "text": [
      "/Users/apple/Documents/setups/google-cloud-sdk/bin/gsutil\n"
     ]
    }
   ],
   "source": [
    "!which gsutil"
   ]
  },
  {
   "cell_type": "markdown",
   "metadata": {},
   "source": [
    "# 🎯 Creating and Managing GCS Buckets\n",
    "## 🪣 Create a GCS Bucket"
   ]
  },
  {
   "cell_type": "code",
   "execution_count": 17,
   "metadata": {},
   "outputs": [
    {
     "name": "stdout",
     "output_type": "stream",
     "text": [
      "Creating gs://de_retail_db/...\n",
      "ServiceException: 409 A Cloud Storage bucket named 'de_retail_db' already exists. Try another name. Bucket names must be globally unique across all Google Cloud projects, including those outside of your organization.\n"
     ]
    }
   ],
   "source": [
    "!gsutil mb gs://de_retail_db ## ! this is shell command"
   ]
  },
  {
   "cell_type": "markdown",
   "metadata": {},
   "source": [
    "## 📂 List GCS Buckets"
   ]
  },
  {
   "cell_type": "code",
   "execution_count": 19,
   "metadata": {},
   "outputs": [
    {
     "name": "stdout",
     "output_type": "stream",
     "text": [
      "gs://de_retail_db/\n"
     ]
    }
   ],
   "source": [
    "!gsutil ls -r"
   ]
  },
  {
   "cell_type": "markdown",
   "metadata": {},
   "source": [
    "## 📤 Upload Data to GCS"
   ]
  },
  {
   "cell_type": "code",
   "execution_count": 20,
   "metadata": {},
   "outputs": [
    {
     "name": "stdout",
     "output_type": "stream",
     "text": [
      "Copying file://../data/retail_db/create_db_tables_pg.sql [Content-Type=application/x-sql]...\n",
      "Copying file://../data/retail_db/schemas.json [Content-Type=application/json]...\n",
      "Copying file://../data/retail_db/load_db_tables_pg.sql [Content-Type=application/x-sql]...\n",
      "Copying file://../data/retail_db/customers/part-00000 [Content-Type=application/octet-stream]...\n",
      "- [4 files][ 10.7 MiB/ 10.7 MiB]                                                \n",
      "==> NOTE: You are performing a sequence of gsutil operations that may\n",
      "run significantly faster if you instead use gsutil -m cp ... Please\n",
      "see the -m section under \"gsutil help options\" for further information\n",
      "about when gsutil -m can be advantageous.\n",
      "\n",
      "Copying file://../data/retail_db/products/part-00000 [Content-Type=application/octet-stream]...\n",
      "Copying file://../data/retail_db/departments/part-00000 [Content-Type=application/octet-stream]...\n",
      "Copying file://../data/retail_db/order_items/part-00000 [Content-Type=application/octet-stream]...\n",
      "Copying file://../data/retail_db/orders/part-00000 [Content-Type=application/octet-stream]...\n",
      "Copying file://../data/retail_db/categories/part-00000 [Content-Type=application/octet-stream]...\n",
      "| [9 files][ 18.9 MiB/ 18.9 MiB]  695.0 KiB/s                                   \n",
      "Operation completed over 9 objects/18.9 MiB.                                     \n"
     ]
    }
   ],
   "source": [
    "!gsutil cp -r ../data/retail_db gs://de_retail_db/retail_db"
   ]
  },
  {
   "cell_type": "markdown",
   "metadata": {},
   "source": [
    "## 📂 Recursively List Bucket Contents"
   ]
  },
  {
   "cell_type": "code",
   "execution_count": 21,
   "metadata": {},
   "outputs": [
    {
     "name": "stdout",
     "output_type": "stream",
     "text": [
      "gs://de_retail_db/retail_db/:\n",
      "gs://de_retail_db/retail_db/create_db_tables_pg.sql\n",
      "gs://de_retail_db/retail_db/load_db_tables_pg.sql\n",
      "gs://de_retail_db/retail_db/schemas.json\n",
      "\n",
      "gs://de_retail_db/retail_db/categories/:\n",
      "gs://de_retail_db/retail_db/categories/part-00000\n",
      "\n",
      "gs://de_retail_db/retail_db/customers/:\n",
      "gs://de_retail_db/retail_db/customers/part-00000\n",
      "\n",
      "gs://de_retail_db/retail_db/departments/:\n",
      "gs://de_retail_db/retail_db/departments/part-00000\n",
      "\n",
      "gs://de_retail_db/retail_db/order_items/:\n",
      "gs://de_retail_db/retail_db/order_items/part-00000\n",
      "\n",
      "gs://de_retail_db/retail_db/orders/:\n",
      "gs://de_retail_db/retail_db/orders/part-00000\n",
      "\n",
      "gs://de_retail_db/retail_db/products/:\n",
      "gs://de_retail_db/retail_db/products/part-00000\n"
     ]
    }
   ],
   "source": [
    "!gsutil ls -r gs://de_retail_db"
   ]
  },
  {
   "cell_type": "markdown",
   "metadata": {},
   "source": [
    "# 🔐 Authenticate and Initialize GCS Client\n",
    "## 🔑 Setup GCP Authentication\n",
    "```\n",
    "gcloud auth application-default login\n",
    "```\n",
    "\n",
    "## 💻 Create GCS Client"
   ]
  },
  {
   "cell_type": "code",
   "execution_count": 22,
   "metadata": {},
   "outputs": [
    {
     "name": "stderr",
     "output_type": "stream",
     "text": [
      "/Users/apple/Documents/GitHub/gcp-cook-book/de_env/lib/python3.9/site-packages/google/auth/_default.py:76: UserWarning: Your application has authenticated using end user credentials from Google Cloud SDK without a quota project. You might receive a \"quota exceeded\" or \"API not enabled\" error. See the following page for troubleshooting: https://cloud.google.com/docs/authentication/adc-troubleshooting/user-creds. \n",
      "  warnings.warn(_CLOUD_SDK_CREDENTIALS_WARNING)\n",
      "/Users/apple/Documents/GitHub/gcp-cook-book/de_env/lib/python3.9/site-packages/google/auth/_default.py:76: UserWarning: Your application has authenticated using end user credentials from Google Cloud SDK without a quota project. You might receive a \"quota exceeded\" or \"API not enabled\" error. See the following page for troubleshooting: https://cloud.google.com/docs/authentication/adc-troubleshooting/user-creds. \n",
      "  warnings.warn(_CLOUD_SDK_CREDENTIALS_WARNING)\n"
     ]
    }
   ],
   "source": [
    "from google.cloud import storage\n",
    "gsclient = storage.Client()"
   ]
  },
  {
   "cell_type": "markdown",
   "metadata": {},
   "source": [
    "## 📁 Listing Buckets and Blobs\n",
    "### 🪣 List Buckets"
   ]
  },
  {
   "cell_type": "code",
   "execution_count": 23,
   "metadata": {},
   "outputs": [
    {
     "name": "stdout",
     "output_type": "stream",
     "text": [
      "de_retail_db\n"
     ]
    }
   ],
   "source": [
    "buckets = gsclient.list_buckets()\n",
    "for bucket in buckets:\n",
    "    print(bucket.name)"
   ]
  },
  {
   "cell_type": "markdown",
   "metadata": {},
   "source": [
    "### 📄 List Blobs in a Bucket"
   ]
  },
  {
   "cell_type": "code",
   "execution_count": 24,
   "metadata": {},
   "outputs": [
    {
     "name": "stdout",
     "output_type": "stream",
     "text": [
      "retail_db/categories/part-00000\n",
      "retail_db/create_db_tables_pg.sql\n",
      "retail_db/customers/part-00000\n",
      "retail_db/departments/part-00000\n",
      "retail_db/load_db_tables_pg.sql\n",
      "retail_db/order_items/part-00000\n",
      "retail_db/orders/part-00000\n",
      "retail_db/products/part-00000\n",
      "retail_db/schemas.json\n"
     ]
    }
   ],
   "source": [
    "blobs = gsclient.list_blobs('de_retail_db')\n",
    "for blob in blobs:\n",
    "    print(blob.name)"
   ]
  },
  {
   "cell_type": "markdown",
   "metadata": {},
   "source": [
    "## 📤 Upload and 📥 Download Files\n",
    "### Upload a Single File to GCS"
   ]
  },
  {
   "cell_type": "code",
   "execution_count": 25,
   "metadata": {},
   "outputs": [],
   "source": [
    "bucket = gsclient.get_bucket('de_retail_db')\n",
    "blob = bucket.blob('pythondemo/retail_db/orders/part-00000') #in-memory\n",
    "blob.upload_from_filename('../data/retail_db/orders/part-00000')"
   ]
  },
  {
   "cell_type": "markdown",
   "metadata": {},
   "source": [
    "## Download a File from GCS"
   ]
  },
  {
   "cell_type": "code",
   "execution_count": 26,
   "metadata": {},
   "outputs": [],
   "source": [
    "blob = bucket.blob('pythondemo/retail_db/orders/part-00000')\n",
    "with open('orders.csv', 'wb') as orders_csv:\n",
    "    gsclient.download_blob_to_file(blob, orders_csv)"
   ]
  },
  {
   "cell_type": "markdown",
   "metadata": {},
   "source": [
    "## 🧹 Clean Up\n",
    "### Remove Folder from GCS"
   ]
  },
  {
   "cell_type": "code",
   "execution_count": 27,
   "metadata": {},
   "outputs": [
    {
     "name": "stdout",
     "output_type": "stream",
     "text": [
      "Removing gs://de_retail_db/pythondemo/retail_db/orders/part-00000#1744058480982809...\n",
      "/ [1 objects]                                                                   \n",
      "Operation completed over 1 objects.                                              \n"
     ]
    }
   ],
   "source": [
    "!gsutil rm -r gs://de_retail_db/pythondemo/"
   ]
  },
  {
   "cell_type": "markdown",
   "metadata": {},
   "source": [
    "# 🧾 Utility: File and Schema Handling\n",
    "## Get All Relevant Files"
   ]
  },
  {
   "cell_type": "code",
   "execution_count": 28,
   "metadata": {},
   "outputs": [],
   "source": [
    "import glob\n",
    "import os\n",
    "\n",
    "def get_file_names(base_dir):\n",
    "    files = glob.glob(f'{base_dir}/**', recursive=True)\n",
    "    return [file for file in files if os.path.isfile(file) and file.endswith('part-00000')]"
   ]
  },
  {
   "cell_type": "markdown",
   "metadata": {},
   "source": [
    "## 📤 Upload Multiple Files to GCS"
   ]
  },
  {
   "cell_type": "code",
   "execution_count": 29,
   "metadata": {},
   "outputs": [
    {
     "name": "stdout",
     "output_type": "stream",
     "text": [
      "Uploading file ../data/retail_db/customers/part-00000\n",
      "Uploading file ../data/retail_db/products/part-00000\n",
      "Uploading file ../data/retail_db/departments/part-00000\n",
      "Uploading file ../data/retail_db/order_items/part-00000\n",
      "Uploading file ../data/retail_db/orders/part-00000\n",
      "Uploading file ../data/retail_db/categories/part-00000\n"
     ]
    }
   ],
   "source": [
    "files = get_file_names('../data/retail_db')\n",
    "bucket = gsclient.get_bucket('de_retail_db')\n",
    "target_base_dir = 'pythondemo'\n",
    "\n",
    "for file in files:\n",
    "    print(f'Uploading file {file}')\n",
    "    file_name = '/'.join(file.split('/')[2:])\n",
    "    blob = bucket.blob(f'{target_base_dir}/{file_name}')\n",
    "    blob.upload_from_filename(file)\n"
   ]
  },
  {
   "cell_type": "code",
   "execution_count": 30,
   "metadata": {},
   "outputs": [
    {
     "data": {
      "text/plain": [
       "<google.api_core.page_iterator.HTTPIterator at 0x10960a130>"
      ]
     },
     "execution_count": 30,
     "metadata": {},
     "output_type": "execute_result"
    }
   ],
   "source": [
    "gsclient.list_blobs('de_retail_db', prefix='pythondemo/') # list of blobs iterator - parameter is bucket name"
   ]
  },
  {
   "cell_type": "code",
   "execution_count": 32,
   "metadata": {},
   "outputs": [
    {
     "name": "stdout",
     "output_type": "stream",
     "text": [
      "pythondemo/retail_db/categories/part-00000\n",
      "pythondemo/retail_db/customers/part-00000\n",
      "pythondemo/retail_db/departments/part-00000\n",
      "pythondemo/retail_db/order_items/part-00000\n",
      "pythondemo/retail_db/orders/part-00000\n",
      "pythondemo/retail_db/products/part-00000\n"
     ]
    }
   ],
   "source": [
    "blobs = gsclient.list_blobs('de_retail_db', prefix='pythondemo/') # list of blobs iterator - parameter is bucket name\n",
    "for blob in blobs:\n",
    "    print(blob.name)"
   ]
  },
  {
   "cell_type": "markdown",
   "metadata": {},
   "source": [
    "# 🐼 Pandas + GCS Integration\n",
    "## Install Required Libraries\n"
   ]
  },
  {
   "cell_type": "code",
   "execution_count": 33,
   "metadata": {},
   "outputs": [
    {
     "name": "stdout",
     "output_type": "stream",
     "text": [
      "Requirement already satisfied: pandas in /Users/apple/Documents/GitHub/gcp-cook-book/de_env/lib/python3.9/site-packages (2.2.3)\n",
      "Requirement already satisfied: gcsfs in /Users/apple/Documents/GitHub/gcp-cook-book/de_env/lib/python3.9/site-packages (2025.3.2)\n",
      "Requirement already satisfied: pyarrow in /Users/apple/Documents/GitHub/gcp-cook-book/de_env/lib/python3.9/site-packages (19.0.1)\n",
      "Requirement already satisfied: numpy>=1.22.4 in /Users/apple/Documents/GitHub/gcp-cook-book/de_env/lib/python3.9/site-packages (from pandas) (2.0.2)\n",
      "Requirement already satisfied: python-dateutil>=2.8.2 in /Users/apple/Documents/GitHub/gcp-cook-book/de_env/lib/python3.9/site-packages (from pandas) (2.9.0.post0)\n",
      "Requirement already satisfied: pytz>=2020.1 in /Users/apple/Documents/GitHub/gcp-cook-book/de_env/lib/python3.9/site-packages (from pandas) (2025.2)\n",
      "Requirement already satisfied: tzdata>=2022.7 in /Users/apple/Documents/GitHub/gcp-cook-book/de_env/lib/python3.9/site-packages (from pandas) (2025.2)\n",
      "Requirement already satisfied: aiohttp!=4.0.0a0,!=4.0.0a1 in /Users/apple/Documents/GitHub/gcp-cook-book/de_env/lib/python3.9/site-packages (from gcsfs) (3.11.16)\n",
      "Requirement already satisfied: decorator>4.1.2 in /Users/apple/Documents/GitHub/gcp-cook-book/de_env/lib/python3.9/site-packages (from gcsfs) (5.2.1)\n",
      "Requirement already satisfied: fsspec==2025.3.2 in /Users/apple/Documents/GitHub/gcp-cook-book/de_env/lib/python3.9/site-packages (from gcsfs) (2025.3.2)\n",
      "Requirement already satisfied: google-auth>=1.2 in /Users/apple/Documents/GitHub/gcp-cook-book/de_env/lib/python3.9/site-packages (from gcsfs) (2.38.0)\n",
      "Requirement already satisfied: google-auth-oauthlib in /Users/apple/Documents/GitHub/gcp-cook-book/de_env/lib/python3.9/site-packages (from gcsfs) (1.2.1)\n",
      "Requirement already satisfied: google-cloud-storage in /Users/apple/Documents/GitHub/gcp-cook-book/de_env/lib/python3.9/site-packages (from gcsfs) (3.1.0)\n",
      "Requirement already satisfied: requests in /Users/apple/Documents/GitHub/gcp-cook-book/de_env/lib/python3.9/site-packages (from gcsfs) (2.32.3)\n",
      "Requirement already satisfied: aiohappyeyeballs>=2.3.0 in /Users/apple/Documents/GitHub/gcp-cook-book/de_env/lib/python3.9/site-packages (from aiohttp!=4.0.0a0,!=4.0.0a1->gcsfs) (2.6.1)\n",
      "Requirement already satisfied: aiosignal>=1.1.2 in /Users/apple/Documents/GitHub/gcp-cook-book/de_env/lib/python3.9/site-packages (from aiohttp!=4.0.0a0,!=4.0.0a1->gcsfs) (1.3.2)\n",
      "Requirement already satisfied: async-timeout<6.0,>=4.0 in /Users/apple/Documents/GitHub/gcp-cook-book/de_env/lib/python3.9/site-packages (from aiohttp!=4.0.0a0,!=4.0.0a1->gcsfs) (5.0.1)\n",
      "Requirement already satisfied: attrs>=17.3.0 in /Users/apple/Documents/GitHub/gcp-cook-book/de_env/lib/python3.9/site-packages (from aiohttp!=4.0.0a0,!=4.0.0a1->gcsfs) (25.3.0)\n",
      "Requirement already satisfied: frozenlist>=1.1.1 in /Users/apple/Documents/GitHub/gcp-cook-book/de_env/lib/python3.9/site-packages (from aiohttp!=4.0.0a0,!=4.0.0a1->gcsfs) (1.5.0)\n",
      "Requirement already satisfied: multidict<7.0,>=4.5 in /Users/apple/Documents/GitHub/gcp-cook-book/de_env/lib/python3.9/site-packages (from aiohttp!=4.0.0a0,!=4.0.0a1->gcsfs) (6.3.2)\n",
      "Requirement already satisfied: propcache>=0.2.0 in /Users/apple/Documents/GitHub/gcp-cook-book/de_env/lib/python3.9/site-packages (from aiohttp!=4.0.0a0,!=4.0.0a1->gcsfs) (0.3.1)\n",
      "Requirement already satisfied: yarl<2.0,>=1.17.0 in /Users/apple/Documents/GitHub/gcp-cook-book/de_env/lib/python3.9/site-packages (from aiohttp!=4.0.0a0,!=4.0.0a1->gcsfs) (1.19.0)\n",
      "Requirement already satisfied: cachetools<6.0,>=2.0.0 in /Users/apple/Documents/GitHub/gcp-cook-book/de_env/lib/python3.9/site-packages (from google-auth>=1.2->gcsfs) (5.5.2)\n",
      "Requirement already satisfied: pyasn1-modules>=0.2.1 in /Users/apple/Documents/GitHub/gcp-cook-book/de_env/lib/python3.9/site-packages (from google-auth>=1.2->gcsfs) (0.4.2)\n",
      "Requirement already satisfied: rsa<5,>=3.1.4 in /Users/apple/Documents/GitHub/gcp-cook-book/de_env/lib/python3.9/site-packages (from google-auth>=1.2->gcsfs) (4.9)\n",
      "Requirement already satisfied: six>=1.5 in /Users/apple/Documents/GitHub/gcp-cook-book/de_env/lib/python3.9/site-packages (from python-dateutil>=2.8.2->pandas) (1.17.0)\n",
      "Requirement already satisfied: requests-oauthlib>=0.7.0 in /Users/apple/Documents/GitHub/gcp-cook-book/de_env/lib/python3.9/site-packages (from google-auth-oauthlib->gcsfs) (2.0.0)\n",
      "Requirement already satisfied: google-api-core<3.0.0dev,>=2.15.0 in /Users/apple/Documents/GitHub/gcp-cook-book/de_env/lib/python3.9/site-packages (from google-cloud-storage->gcsfs) (2.24.2)\n",
      "Requirement already satisfied: google-cloud-core<3.0dev,>=2.4.2 in /Users/apple/Documents/GitHub/gcp-cook-book/de_env/lib/python3.9/site-packages (from google-cloud-storage->gcsfs) (2.4.3)\n",
      "Requirement already satisfied: google-resumable-media>=2.7.2 in /Users/apple/Documents/GitHub/gcp-cook-book/de_env/lib/python3.9/site-packages (from google-cloud-storage->gcsfs) (2.7.2)\n",
      "Requirement already satisfied: google-crc32c<2.0dev,>=1.0 in /Users/apple/Documents/GitHub/gcp-cook-book/de_env/lib/python3.9/site-packages (from google-cloud-storage->gcsfs) (1.7.1)\n",
      "Requirement already satisfied: charset-normalizer<4,>=2 in /Users/apple/Documents/GitHub/gcp-cook-book/de_env/lib/python3.9/site-packages (from requests->gcsfs) (3.4.1)\n",
      "Requirement already satisfied: idna<4,>=2.5 in /Users/apple/Documents/GitHub/gcp-cook-book/de_env/lib/python3.9/site-packages (from requests->gcsfs) (3.10)\n",
      "Requirement already satisfied: urllib3<3,>=1.21.1 in /Users/apple/Documents/GitHub/gcp-cook-book/de_env/lib/python3.9/site-packages (from requests->gcsfs) (2.3.0)\n",
      "Requirement already satisfied: certifi>=2017.4.17 in /Users/apple/Documents/GitHub/gcp-cook-book/de_env/lib/python3.9/site-packages (from requests->gcsfs) (2025.1.31)\n",
      "Requirement already satisfied: googleapis-common-protos<2.0.0,>=1.56.2 in /Users/apple/Documents/GitHub/gcp-cook-book/de_env/lib/python3.9/site-packages (from google-api-core<3.0.0dev,>=2.15.0->google-cloud-storage->gcsfs) (1.69.2)\n",
      "Requirement already satisfied: protobuf!=3.20.0,!=3.20.1,!=4.21.0,!=4.21.1,!=4.21.2,!=4.21.3,!=4.21.4,!=4.21.5,<7.0.0,>=3.19.5 in /Users/apple/Documents/GitHub/gcp-cook-book/de_env/lib/python3.9/site-packages (from google-api-core<3.0.0dev,>=2.15.0->google-cloud-storage->gcsfs) (6.30.2)\n",
      "Requirement already satisfied: proto-plus<2.0.0,>=1.22.3 in /Users/apple/Documents/GitHub/gcp-cook-book/de_env/lib/python3.9/site-packages (from google-api-core<3.0.0dev,>=2.15.0->google-cloud-storage->gcsfs) (1.26.1)\n",
      "Requirement already satisfied: typing-extensions>=4.1.0 in /Users/apple/Documents/GitHub/gcp-cook-book/de_env/lib/python3.9/site-packages (from multidict<7.0,>=4.5->aiohttp!=4.0.0a0,!=4.0.0a1->gcsfs) (4.13.1)\n",
      "Requirement already satisfied: pyasn1<0.7.0,>=0.6.1 in /Users/apple/Documents/GitHub/gcp-cook-book/de_env/lib/python3.9/site-packages (from pyasn1-modules>=0.2.1->google-auth>=1.2->gcsfs) (0.6.1)\n",
      "Requirement already satisfied: oauthlib>=3.0.0 in /Users/apple/Documents/GitHub/gcp-cook-book/de_env/lib/python3.9/site-packages (from requests-oauthlib>=0.7.0->google-auth-oauthlib->gcsfs) (3.2.2)\n",
      "\n",
      "\u001b[1m[\u001b[0m\u001b[34;49mnotice\u001b[0m\u001b[1;39;49m]\u001b[0m\u001b[39;49m A new release of pip is available: \u001b[0m\u001b[31;49m24.3.1\u001b[0m\u001b[39;49m -> \u001b[0m\u001b[32;49m25.0.1\u001b[0m\n",
      "\u001b[1m[\u001b[0m\u001b[34;49mnotice\u001b[0m\u001b[1;39;49m]\u001b[0m\u001b[39;49m To update, run: \u001b[0m\u001b[32;49mpip install --upgrade pip\u001b[0m\n"
     ]
    }
   ],
   "source": [
    "!pip install pandas gcsfs pyarrow"
   ]
  },
  {
   "cell_type": "markdown",
   "metadata": {},
   "source": [
    "## Read CSV from GCS using Pandas"
   ]
  },
  {
   "cell_type": "code",
   "execution_count": 34,
   "metadata": {},
   "outputs": [
    {
     "name": "stderr",
     "output_type": "stream",
     "text": [
      "/Users/apple/Documents/GitHub/gcp-cook-book/de_env/lib/python3.9/site-packages/google/auth/_default.py:76: UserWarning: Your application has authenticated using end user credentials from Google Cloud SDK without a quota project. You might receive a \"quota exceeded\" or \"API not enabled\" error. See the following page for troubleshooting: https://cloud.google.com/docs/authentication/adc-troubleshooting/user-creds. \n",
      "  warnings.warn(_CLOUD_SDK_CREDENTIALS_WARNING)\n"
     ]
    },
    {
     "data": {
      "text/html": [
       "<div>\n",
       "<style scoped>\n",
       "    .dataframe tbody tr th:only-of-type {\n",
       "        vertical-align: middle;\n",
       "    }\n",
       "\n",
       "    .dataframe tbody tr th {\n",
       "        vertical-align: top;\n",
       "    }\n",
       "\n",
       "    .dataframe thead th {\n",
       "        text-align: right;\n",
       "    }\n",
       "</style>\n",
       "<table border=\"1\" class=\"dataframe\">\n",
       "  <thead>\n",
       "    <tr style=\"text-align: right;\">\n",
       "      <th></th>\n",
       "      <th>order_id</th>\n",
       "      <th>order_date</th>\n",
       "      <th>order_customer_id</th>\n",
       "      <th>order_status</th>\n",
       "    </tr>\n",
       "  </thead>\n",
       "  <tbody>\n",
       "    <tr>\n",
       "      <th>0</th>\n",
       "      <td>1</td>\n",
       "      <td>2013-07-25 00:00:00.0</td>\n",
       "      <td>11599</td>\n",
       "      <td>CLOSED</td>\n",
       "    </tr>\n",
       "    <tr>\n",
       "      <th>1</th>\n",
       "      <td>2</td>\n",
       "      <td>2013-07-25 00:00:00.0</td>\n",
       "      <td>256</td>\n",
       "      <td>PENDING_PAYMENT</td>\n",
       "    </tr>\n",
       "    <tr>\n",
       "      <th>2</th>\n",
       "      <td>3</td>\n",
       "      <td>2013-07-25 00:00:00.0</td>\n",
       "      <td>12111</td>\n",
       "      <td>COMPLETE</td>\n",
       "    </tr>\n",
       "    <tr>\n",
       "      <th>3</th>\n",
       "      <td>4</td>\n",
       "      <td>2013-07-25 00:00:00.0</td>\n",
       "      <td>8827</td>\n",
       "      <td>CLOSED</td>\n",
       "    </tr>\n",
       "    <tr>\n",
       "      <th>4</th>\n",
       "      <td>5</td>\n",
       "      <td>2013-07-25 00:00:00.0</td>\n",
       "      <td>11318</td>\n",
       "      <td>COMPLETE</td>\n",
       "    </tr>\n",
       "  </tbody>\n",
       "</table>\n",
       "</div>"
      ],
      "text/plain": [
       "   order_id             order_date  order_customer_id     order_status\n",
       "0         1  2013-07-25 00:00:00.0              11599           CLOSED\n",
       "1         2  2013-07-25 00:00:00.0                256  PENDING_PAYMENT\n",
       "2         3  2013-07-25 00:00:00.0              12111         COMPLETE\n",
       "3         4  2013-07-25 00:00:00.0               8827           CLOSED\n",
       "4         5  2013-07-25 00:00:00.0              11318         COMPLETE"
      ]
     },
     "execution_count": 34,
     "metadata": {},
     "output_type": "execute_result"
    }
   ],
   "source": [
    "import pandas as pd\n",
    "\n",
    "df = pd.read_csv('gs://de_retail_db/pythondemo/retail_db/orders/part-00000',\n",
    "                 sep=',',\n",
    "                 header=None,\n",
    "                 names=['order_id', 'order_date', 'order_customer_id', 'order_status'])\n",
    "df.head()"
   ]
  },
  {
   "cell_type": "markdown",
   "metadata": {},
   "source": [
    "# 📦 Write to Parquet and Read Back\n",
    "## Convert CSV to Parquet"
   ]
  },
  {
   "cell_type": "code",
   "execution_count": 35,
   "metadata": {},
   "outputs": [],
   "source": [
    "df.to_parquet('gs://de_retail_db/retail_db_parquet/orders/part-00000.snappy.parquet', index=False)"
   ]
  },
  {
   "cell_type": "markdown",
   "metadata": {},
   "source": [
    "## Read Parquet from GCS"
   ]
  },
  {
   "cell_type": "code",
   "execution_count": 36,
   "metadata": {},
   "outputs": [
    {
     "data": {
      "text/html": [
       "<div>\n",
       "<style scoped>\n",
       "    .dataframe tbody tr th:only-of-type {\n",
       "        vertical-align: middle;\n",
       "    }\n",
       "\n",
       "    .dataframe tbody tr th {\n",
       "        vertical-align: top;\n",
       "    }\n",
       "\n",
       "    .dataframe thead th {\n",
       "        text-align: right;\n",
       "    }\n",
       "</style>\n",
       "<table border=\"1\" class=\"dataframe\">\n",
       "  <thead>\n",
       "    <tr style=\"text-align: right;\">\n",
       "      <th></th>\n",
       "      <th>order_id</th>\n",
       "      <th>order_date</th>\n",
       "      <th>order_customer_id</th>\n",
       "      <th>order_status</th>\n",
       "    </tr>\n",
       "  </thead>\n",
       "  <tbody>\n",
       "    <tr>\n",
       "      <th>0</th>\n",
       "      <td>1</td>\n",
       "      <td>2013-07-25 00:00:00.0</td>\n",
       "      <td>11599</td>\n",
       "      <td>CLOSED</td>\n",
       "    </tr>\n",
       "    <tr>\n",
       "      <th>1</th>\n",
       "      <td>2</td>\n",
       "      <td>2013-07-25 00:00:00.0</td>\n",
       "      <td>256</td>\n",
       "      <td>PENDING_PAYMENT</td>\n",
       "    </tr>\n",
       "    <tr>\n",
       "      <th>2</th>\n",
       "      <td>3</td>\n",
       "      <td>2013-07-25 00:00:00.0</td>\n",
       "      <td>12111</td>\n",
       "      <td>COMPLETE</td>\n",
       "    </tr>\n",
       "    <tr>\n",
       "      <th>3</th>\n",
       "      <td>4</td>\n",
       "      <td>2013-07-25 00:00:00.0</td>\n",
       "      <td>8827</td>\n",
       "      <td>CLOSED</td>\n",
       "    </tr>\n",
       "    <tr>\n",
       "      <th>4</th>\n",
       "      <td>5</td>\n",
       "      <td>2013-07-25 00:00:00.0</td>\n",
       "      <td>11318</td>\n",
       "      <td>COMPLETE</td>\n",
       "    </tr>\n",
       "  </tbody>\n",
       "</table>\n",
       "</div>"
      ],
      "text/plain": [
       "   order_id             order_date  order_customer_id     order_status\n",
       "0         1  2013-07-25 00:00:00.0              11599           CLOSED\n",
       "1         2  2013-07-25 00:00:00.0                256  PENDING_PAYMENT\n",
       "2         3  2013-07-25 00:00:00.0              12111         COMPLETE\n",
       "3         4  2013-07-25 00:00:00.0               8827           CLOSED\n",
       "4         5  2013-07-25 00:00:00.0              11318         COMPLETE"
      ]
     },
     "execution_count": 36,
     "metadata": {},
     "output_type": "execute_result"
    }
   ],
   "source": [
    "df = pd.read_parquet('gs://de_retail_db/retail_db_parquet/orders/part-00000.snappy.parquet')\n",
    "df.head()"
   ]
  },
  {
   "cell_type": "markdown",
   "metadata": {},
   "source": [
    "## 🔄 Convert and Upload All CSVs as Parquet\n",
    "### Cleanup"
   ]
  },
  {
   "cell_type": "code",
   "execution_count": 37,
   "metadata": {},
   "outputs": [
    {
     "name": "stdout",
     "output_type": "stream",
     "text": [
      "Removing gs://de_retail_db/retail_db_parquet/orders/part-00000.snappy.parquet#1744059054716379...\n",
      "/ [1 objects]                                                                   \n",
      "Operation completed over 1 objects.                                              \n",
      "gs://de_retail_db/pythondemo/:\n",
      "\n",
      "gs://de_retail_db/pythondemo/retail_db/:\n",
      "\n",
      "gs://de_retail_db/pythondemo/retail_db/categories/:\n",
      "gs://de_retail_db/pythondemo/retail_db/categories/part-00000\n",
      "\n",
      "gs://de_retail_db/pythondemo/retail_db/customers/:\n",
      "gs://de_retail_db/pythondemo/retail_db/customers/part-00000\n",
      "\n",
      "gs://de_retail_db/pythondemo/retail_db/departments/:\n",
      "gs://de_retail_db/pythondemo/retail_db/departments/part-00000\n",
      "\n",
      "gs://de_retail_db/pythondemo/retail_db/order_items/:\n",
      "gs://de_retail_db/pythondemo/retail_db/order_items/part-00000\n",
      "\n",
      "gs://de_retail_db/pythondemo/retail_db/orders/:\n",
      "gs://de_retail_db/pythondemo/retail_db/orders/part-00000\n",
      "\n",
      "gs://de_retail_db/pythondemo/retail_db/products/:\n",
      "gs://de_retail_db/pythondemo/retail_db/products/part-00000\n",
      "\n",
      "gs://de_retail_db/retail_db/:\n",
      "gs://de_retail_db/retail_db/create_db_tables_pg.sql\n",
      "gs://de_retail_db/retail_db/load_db_tables_pg.sql\n",
      "gs://de_retail_db/retail_db/schemas.json\n",
      "\n",
      "gs://de_retail_db/retail_db/categories/:\n",
      "gs://de_retail_db/retail_db/categories/part-00000\n",
      "\n",
      "gs://de_retail_db/retail_db/customers/:\n",
      "gs://de_retail_db/retail_db/customers/part-00000\n",
      "\n",
      "gs://de_retail_db/retail_db/departments/:\n",
      "gs://de_retail_db/retail_db/departments/part-00000\n",
      "\n",
      "gs://de_retail_db/retail_db/order_items/:\n",
      "gs://de_retail_db/retail_db/order_items/part-00000\n",
      "\n",
      "gs://de_retail_db/retail_db/orders/:\n",
      "gs://de_retail_db/retail_db/orders/part-00000\n",
      "\n",
      "gs://de_retail_db/retail_db/products/:\n",
      "gs://de_retail_db/retail_db/products/part-00000\n"
     ]
    }
   ],
   "source": [
    "!gsutil rm -r gs://de_retail_db/retail_db_parquet/\n",
    "!gsutil ls -r gs://de_retail_db/"
   ]
  },
  {
   "cell_type": "markdown",
   "metadata": {},
   "source": [
    "## Get Column Names from Schema"
   ]
  },
  {
   "cell_type": "code",
   "execution_count": 38,
   "metadata": {},
   "outputs": [],
   "source": [
    "import json\n",
    "\n",
    "def get_columns(schema_file, ds_name):\n",
    "    with open(schema_file) as f:\n",
    "        schemas = json.load(f)\n",
    "    ds_schema = sorted(schemas[ds_name], key=lambda x: x['column_position'])\n",
    "    return [col['column_name'] for col in ds_schema]"
   ]
  },
  {
   "cell_type": "markdown",
   "metadata": {},
   "source": [
    "## 🔄 Convert and Upload All CSVs as Parquet"
   ]
  },
  {
   "cell_type": "code",
   "execution_count": 39,
   "metadata": {},
   "outputs": [
    {
     "name": "stdout",
     "output_type": "stream",
     "text": [
      "Uploading file ../data/retail_db/customers/part-00000\n",
      "Uploading file ../data/retail_db/products/part-00000\n",
      "Uploading file ../data/retail_db/departments/part-00000\n",
      "Uploading file ../data/retail_db/order_items/part-00000\n",
      "Uploading file ../data/retail_db/orders/part-00000\n",
      "Uploading file ../data/retail_db/categories/part-00000\n"
     ]
    }
   ],
   "source": [
    "target_base_dir = 'retail_db_parquet'\n",
    "base_dir = '../data/retail_db'\n",
    "schemas_file = '../data/retail_db/schemas.json'\n",
    "bucket = 'de_retail_db'\n",
    "\n",
    "for file in get_file_names(base_dir):\n",
    "    file_name = file.split('/')[-2]\n",
    "    blob_suffix = '/'.join(file.split('/')[-2:])\n",
    "    columns = get_columns(schemas_file, file_name)\n",
    "    print(f'Uploading file {file}')\n",
    "    df = pd.read_csv(file, sep=',', header=None, names=columns)\n",
    "    df.to_parquet(f'gs://{bucket}/{target_base_dir}/{blob_suffix}.snappy.parquet', index=False)"
   ]
  },
  {
   "cell_type": "markdown",
   "metadata": {},
   "source": [
    "## ✅ Verify Uploaded Files"
   ]
  },
  {
   "cell_type": "code",
   "execution_count": 40,
   "metadata": {},
   "outputs": [
    {
     "name": "stdout",
     "output_type": "stream",
     "text": [
      "gs://de_retail_db/retail_db_parquet/:\n",
      "\n",
      "gs://de_retail_db/retail_db_parquet/categories/:\n",
      "gs://de_retail_db/retail_db_parquet/categories/part-00000.snappy.parquet\n",
      "\n",
      "gs://de_retail_db/retail_db_parquet/customers/:\n",
      "gs://de_retail_db/retail_db_parquet/customers/part-00000.snappy.parquet\n",
      "\n",
      "gs://de_retail_db/retail_db_parquet/departments/:\n",
      "gs://de_retail_db/retail_db_parquet/departments/part-00000.snappy.parquet\n",
      "\n",
      "gs://de_retail_db/retail_db_parquet/order_items/:\n",
      "gs://de_retail_db/retail_db_parquet/order_items/part-00000.snappy.parquet\n",
      "\n",
      "gs://de_retail_db/retail_db_parquet/orders/:\n",
      "gs://de_retail_db/retail_db_parquet/orders/part-00000.snappy.parquet\n",
      "\n",
      "gs://de_retail_db/retail_db_parquet/products/:\n",
      "gs://de_retail_db/retail_db_parquet/products/part-00000.snappy.parquet\n"
     ]
    }
   ],
   "source": [
    "!gsutil ls -r gs://de_retail_db/retail_db_parquet/"
   ]
  },
  {
   "cell_type": "markdown",
   "metadata": {},
   "source": [
    "### Preview Datasets"
   ]
  },
  {
   "cell_type": "code",
   "execution_count": 41,
   "metadata": {},
   "outputs": [
    {
     "name": "stdout",
     "output_type": "stream",
     "text": [
      "orders:\n",
      "   order_id             order_date  order_customer_id     order_status\n",
      "0         1  2013-07-25 00:00:00.0              11599           CLOSED\n",
      "1         2  2013-07-25 00:00:00.0                256  PENDING_PAYMENT\n",
      "products:\n",
      "   product_id  product_cateogry_id  \\\n",
      "0           1                    2   \n",
      "1           2                    2   \n",
      "\n",
      "                                    product_name  product_description  \\\n",
      "0  Quest Q64 10 FT. x 10 FT. Slant Leg Instant U                  NaN   \n",
      "1  Under Armour Men's Highlight MC Football Clea                  NaN   \n",
      "\n",
      "   product_price                                      product_image  \n",
      "0          59.98  http://images.acmesports.sports/Quest+Q64+10+F...  \n",
      "1         129.99  http://images.acmesports.sports/Under+Armour+M...  \n",
      "categories:\n",
      "   category_id  category_department_id category_name\n",
      "0            1                       2      Football\n",
      "1            2                       2        Soccer\n",
      "departments:\n",
      "   department_id department_name\n",
      "0              2         Fitness\n",
      "1              3        Footwear\n",
      "customers:\n",
      "   customer_id customer_fname customer_lname customer_email customer_password  \\\n",
      "0            1        Richard      Hernandez      XXXXXXXXX         XXXXXXXXX   \n",
      "1            2           Mary        Barrett      XXXXXXXXX         XXXXXXXXX   \n",
      "\n",
      "           customer_street customer_city customer_state  customer_zipcode  \n",
      "0       6303 Heather Plaza   Brownsville             TX             78521  \n",
      "1  9526 Noble Embers Ridge     Littleton             CO             80126  \n",
      "order_items:\n",
      "   order_item_id  order_item_order_id  order_item_product_id  \\\n",
      "0              1                    1                    957   \n",
      "1              2                    2                   1073   \n",
      "\n",
      "   order_item_quantity  order_item_subtotal  order_item_product_price  \n",
      "0                    1               299.98                    299.98  \n",
      "1                    1               199.99                    199.99  \n"
     ]
    }
   ],
   "source": [
    "datasets = ['orders', 'products', 'categories', 'departments', 'customers', 'order_items']\n",
    "for dataset in datasets:\n",
    "    df = pd.read_parquet(f'gs://de_retail_db/retail_db_parquet/{dataset}/part-00000.snappy.parquet')\n",
    "    print(f'{dataset}:')\n",
    "    print(df.head(2))"
   ]
  },
  {
   "cell_type": "markdown",
   "metadata": {},
   "source": [
    "## 🚮 Delete File from GCS using Python"
   ]
  },
  {
   "cell_type": "code",
   "execution_count": 2,
   "metadata": {},
   "outputs": [
    {
     "name": "stderr",
     "output_type": "stream",
     "text": [
      "/Users/apple/Documents/GitHub/gcp-cook-book/de_env/lib/python3.9/site-packages/google/auth/_default.py:76: UserWarning: Your application has authenticated using end user credentials from Google Cloud SDK without a quota project. You might receive a \"quota exceeded\" or \"API not enabled\" error. See the following page for troubleshooting: https://cloud.google.com/docs/authentication/adc-troubleshooting/user-creds. \n",
      "  warnings.warn(_CLOUD_SDK_CREDENTIALS_WARNING)\n",
      "/Users/apple/Documents/GitHub/gcp-cook-book/de_env/lib/python3.9/site-packages/google/auth/_default.py:76: UserWarning: Your application has authenticated using end user credentials from Google Cloud SDK without a quota project. You might receive a \"quota exceeded\" or \"API not enabled\" error. See the following page for troubleshooting: https://cloud.google.com/docs/authentication/adc-troubleshooting/user-creds. \n",
      "  warnings.warn(_CLOUD_SDK_CREDENTIALS_WARNING)\n"
     ]
    },
    {
     "name": "stdout",
     "output_type": "stream",
     "text": [
      "File deleted.\n"
     ]
    }
   ],
   "source": [
    "from google.cloud import storage\n",
    "\n",
    "client = storage.Client()\n",
    "bucket = client.bucket('de_retail_db')\n",
    "blob = bucket.blob('retail_db_parquet/orders/part-00000.snappy.parquet')\n",
    "blob.delete()\n",
    "print(\"File deleted.\")"
   ]
  },
  {
   "cell_type": "markdown",
   "metadata": {},
   "source": [
    "## 🗃️ Upload JSON Data as Object (from memory)"
   ]
  },
  {
   "cell_type": "code",
   "execution_count": 3,
   "metadata": {},
   "outputs": [
    {
     "name": "stderr",
     "output_type": "stream",
     "text": [
      "/Users/apple/Documents/GitHub/gcp-cook-book/de_env/lib/python3.9/site-packages/google/auth/_default.py:76: UserWarning: Your application has authenticated using end user credentials from Google Cloud SDK without a quota project. You might receive a \"quota exceeded\" or \"API not enabled\" error. See the following page for troubleshooting: https://cloud.google.com/docs/authentication/adc-troubleshooting/user-creds. \n",
      "  warnings.warn(_CLOUD_SDK_CREDENTIALS_WARNING)\n",
      "/Users/apple/Documents/GitHub/gcp-cook-book/de_env/lib/python3.9/site-packages/google/auth/_default.py:76: UserWarning: Your application has authenticated using end user credentials from Google Cloud SDK without a quota project. You might receive a \"quota exceeded\" or \"API not enabled\" error. See the following page for troubleshooting: https://cloud.google.com/docs/authentication/adc-troubleshooting/user-creds. \n",
      "  warnings.warn(_CLOUD_SDK_CREDENTIALS_WARNING)\n"
     ]
    },
    {
     "name": "stdout",
     "output_type": "stream",
     "text": [
      "JSON object uploaded.\n"
     ]
    }
   ],
   "source": [
    "import json\n",
    "from google.cloud import storage\n",
    "\n",
    "data = {\"key\": \"value\", \"status\": \"active\"}\n",
    "\n",
    "client = storage.Client()\n",
    "bucket = client.bucket('de_retail_db')\n",
    "blob = bucket.blob('json_folder/sample.json')\n",
    "blob.upload_from_string(json.dumps(data), content_type='application/json')\n",
    "\n",
    "print(\"JSON object uploaded.\")\n"
   ]
  },
  {
   "cell_type": "markdown",
   "metadata": {},
   "source": [
    "## 🎓 Summary\n",
    "In this notebook, we:\n",
    "\n",
    "- Set up and authenticated with GCS.\n",
    "\n",
    "- Created a GCS bucket and uploaded retail data.\n",
    "\n",
    "- Used gsutil, google.cloud.storage, and pandas to interact with GCS.\n",
    "\n",
    "- Converted CSVs to Parquet and uploaded them efficiently.\n",
    "\n",
    "- Read data directly from GCS using Pandas."
   ]
  }
 ],
 "metadata": {
  "kernelspec": {
   "display_name": "de_env",
   "language": "python",
   "name": "python3"
  },
  "language_info": {
   "codemirror_mode": {
    "name": "ipython",
    "version": 3
   },
   "file_extension": ".py",
   "mimetype": "text/x-python",
   "name": "python",
   "nbconvert_exporter": "python",
   "pygments_lexer": "ipython3",
   "version": "3.9.21"
  }
 },
 "nbformat": 4,
 "nbformat_minor": 2
}
